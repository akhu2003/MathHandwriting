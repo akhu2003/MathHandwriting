{
 "cells": [
  {
   "cell_type": "code",
   "execution_count": 64,
   "id": "5b73c732",
   "metadata": {},
   "outputs": [],
   "source": [
    "from tensorflow import keras\n",
    "import tensorflow as tf\n",
    "model = keras.models.load_model('model2.h5')\n",
    "from PIL import ImageTk, Image, ImageDraw\n",
    "import PIL\n",
    "from PIL import ImageGrab, Image\n",
    "from tkinter import *\n",
    "import tkinter as tk\n",
    "import win32gui\n",
    "\n",
    "import numpy as np\n",
    "import matplotlib.pyplot as plt\n",
    "class_names = ['!', '(', ')', '+', ',', '-', '0', '1', '2', '3', '4', '5', '6', '7', '8', '9', '=', 'A', 'C', 'Delta', 'G', 'H', 'M', 'N', 'R', 'S', 'T', 'X', '[', ']', 'alpha', 'ascii_124', 'b', 'beta', 'cos', 'd', 'div', 'e', 'exists', 'f', 'forall', 'forward_slash', 'gamma', 'geq', 'gt', 'i', 'in', 'infty', 'int', 'j', 'k', 'l', 'lambda', 'ldots', 'leq', 'lim', 'log', 'lt', 'mu', 'neq', 'o', 'p', 'phi', 'pi', 'pm', 'prime', 'q', 'rightarrow', 'sigma', 'sin', 'sqrt', 'sum', 'tan', 'theta', 'times', 'u', 'v', 'w', 'y', 'z', '{', '}']"
   ]
  },
  {
   "cell_type": "code",
   "execution_count": 105,
   "id": "ac6cb979",
   "metadata": {},
   "outputs": [],
   "source": [
    "width = 45  # canvas width\n",
    "height = 45 # canvas height\n",
    "center = width/2\n",
    "white = (255, 255, 255) # canvas back\n",
    "\n",
    "def save():\n",
    "    # save image to hard drive\n",
    "    filename = \"user_input.png\"\n",
    "    output_image.save(filename)\n",
    "\n",
    "def paint(event):\n",
    "    x1, y1 = (event.x - 1), (event.y - 1)\n",
    "    x2, y2 = (event.x + 1), (event.y + 1)\n",
    "    canvas.create_oval(x1, y1, x2, y2, fill=\"black\",width=2)\n",
    "    draw.line([x1, y1, x2, y2],fill=\"black\",width=2)\n",
    "\n",
    "master = Tk()\n",
    "\n",
    "# create a tkinter canvas to draw on\n",
    "canvas = Canvas(master, width=width, height=height, bg='white')\n",
    "canvas.pack()\n",
    "\n",
    "# create an empty PIL image and draw object to draw on\n",
    "output_image = PIL.Image.new(\"RGB\", (width, height), white)\n",
    "draw = ImageDraw.Draw(output_image)\n",
    "canvas.pack(expand=YES, fill=BOTH)\n",
    "canvas.bind(\"<B1-Motion>\", paint)\n",
    "\n",
    "# add a button to save the image\n",
    "button=Button(text=\"save\",command=save)\n",
    "button.pack()\n",
    "\n",
    "master.mainloop()"
   ]
  },
  {
   "cell_type": "code",
   "execution_count": 106,
   "id": "89d4aa99",
   "metadata": {
    "scrolled": true
   },
   "outputs": [
    {
     "data": {
      "image/png": "[encoded data removed]",
      "text/plain": [
       "<Figure size 432x288 with 1 Axes>"
      ]
     },
     "metadata": {
      "needs_background": "light"
     },
     "output_type": "display_data"
    }
   ],
   "source": [
    "from PIL import Image\n",
    "from numpy import asarray\n",
    "import cv2\n",
    "image =cv2.imread('user_input.png')\n",
    "image = cv2.cvtColor(image, cv2.COLOR_BGR2GRAY)\n",
    "plt.imshow(image)\n",
    "plt.show()"
   ]
  },
  {
   "cell_type": "code",
   "execution_count": 107,
   "id": "c7931238",
   "metadata": {},
   "outputs": [
    {
     "name": "stdout",
     "output_type": "stream",
     "text": [
      "1/1 [==============================] - 0s 13ms/step\n"
     ]
    },
    {
     "data": {
      "text/plain": [
       "array([[ -78.33872 ,  -83.919   ,  -75.38223 ,  -64.946365, -145.77919 ,\n",
       "         -60.97324 , -163.28108 , -104.76299 , -118.51751 ,  -87.384445,\n",
       "        -116.41227 , -126.661674, -144.5982  , -151.44618 , -171.84346 ,\n",
       "         -93.3394  ,  -19.616617,  -40.738758,  -76.66178 ,  -74.94142 ,\n",
       "        -184.1861  , -146.08627 , -178.61813 , -121.33326 , -173.68709 ,\n",
       "         -98.718765, -171.78871 , -109.69953 ,  -56.9046  ,  -99.78378 ,\n",
       "        -175.3247  ,  -79.36038 , -125.913574,  -55.49682 ,  -61.486465,\n",
       "         -74.93466 ,  -66.86389 , -163.34128 ,  -36.305798, -121.00234 ,\n",
       "         -43.623608,  -64.16972 , -113.71338 ,  -77.50303 ,  -76.959366,\n",
       "        -140.7213  ,  -56.196003, -153.16245 , -103.94985 ,  -99.31469 ,\n",
       "        -100.176384, -160.47292 ,  -79.48024 ,  -51.443558,  -93.05736 ,\n",
       "         -76.65398 ,  -31.664156,  -73.57612 ,  -60.73015 ,  -74.4313  ,\n",
       "        -102.8292  ,  -81.36507 ,  -84.43013 , -116.29912 ,  -51.460793,\n",
       "         -70.28014 , -139.44235 ,  -44.24815 ,  -95.4228  ,  -78.38764 ,\n",
       "         -72.72225 , -124.88977 ,  -80.08034 ,  -79.930916, -154.43689 ,\n",
       "        -151.29749 , -161.13348 , -110.50185 , -136.61876 , -138.46552 ,\n",
       "         -61.088863,  -64.14882 ]], dtype=float32)"
      ]
     },
     "execution_count": 107,
     "metadata": {},
     "output_type": "execute_result"
    }
   ],
   "source": [
    "img = tf.keras.utils.load_img(\n",
    "        'user_input.png', color_mode = 'grayscale',target_size=(45,45)\n",
    ")\n",
    "input_arr = tf.keras.utils.img_to_array(image)\n",
    "input_arr = np.array([image])  # Convert single image to a batch.\n",
    "predictions = model.predict(input_arr)\n",
    "predictions"
   ]
  },
  {
   "cell_type": "code",
   "execution_count": 108,
   "id": "18177d4e",
   "metadata": {},
   "outputs": [
    {
     "name": "stdout",
     "output_type": "stream",
     "text": [
      "This image most likely belongs to = with a 100.00 percent confidence.\n"
     ]
    },
    {
     "data": {
      "text/plain": [
       "<tf.Tensor: shape=(82,), dtype=float32, numpy=\n",
       "array([3.14275436e-26, 1.18529685e-28, 6.04362560e-25, 2.05843508e-20,\n",
       "       0.00000000e+00, 1.09407033e-18, 0.00000000e+00, 1.05049875e-37,\n",
       "       0.00000000e+00, 3.70512472e-30, 0.00000000e+00, 0.00000000e+00,\n",
       "       0.00000000e+00, 0.00000000e+00, 0.00000000e+00, 9.60723304e-33,\n",
       "       9.99994159e-01, 6.71070588e-10, 1.68111202e-25, 9.39159615e-25,\n",
       "       0.00000000e+00, 0.00000000e+00, 0.00000000e+00, 0.00000000e+00,\n",
       "       0.00000000e+00, 4.42965818e-35, 0.00000000e+00, 0.00000000e+00,\n",
       "       6.39784764e-17, 1.52699959e-35, 0.00000000e+00, 1.13138185e-26,\n",
       "       0.00000000e+00, 2.61470786e-16, 6.54866225e-19, 9.45529568e-25,\n",
       "       3.02528344e-21, 0.00000000e+00, 5.64909008e-08, 0.00000000e+00,\n",
       "       3.74881515e-11, 4.47536442e-20, 0.00000000e+00, 7.24848910e-26,\n",
       "       1.24841035e-25, 0.00000000e+00, 1.29948989e-16, 0.00000000e+00,\n",
       "       2.36885290e-37, 2.44097601e-35, 1.03117996e-35, 0.00000000e+00,\n",
       "       1.00358846e-26, 1.50568035e-14, 1.27376186e-32, 1.69428427e-25,\n",
       "       5.85892440e-06, 3.67860395e-24, 1.39513730e-18, 1.56416849e-24,\n",
       "       7.26491866e-37, 1.52400300e-27, 7.10960770e-29, 0.00000000e+00,\n",
       "       1.47995257e-14, 9.93359905e-23, 0.00000000e+00, 2.00751481e-11,\n",
       "       1.19616349e-33, 2.99271179e-26, 8.63997619e-24, 0.00000000e+00,\n",
       "       5.50727179e-27, 6.39483814e-27, 0.00000000e+00, 0.00000000e+00,\n",
       "       0.00000000e+00, 0.00000000e+00, 0.00000000e+00, 0.00000000e+00,\n",
       "       9.74609427e-19, 4.56990470e-20], dtype=float32)>"
      ]
     },
     "execution_count": 108,
     "metadata": {},
     "output_type": "execute_result"
    }
   ],
   "source": [
    "score = tf.nn.softmax(predictions[0])\n",
    "print(\n",
    "    \"This image most likely belongs to {} with a {:.2f} percent confidence.\"\n",
    "    .format(class_names[np.argmax(score)], 100 * np.max(score))\n",
    ")\n",
    "score"
   ]
  },
  {
   "cell_type": "code",
   "execution_count": 118,
   "id": "5b30e83c",
   "metadata": {},
   "outputs": [
    {
     "name": "stdout",
     "output_type": "stream",
     "text": [
      "1/1 [==============================] - 0s 11ms/step\n",
      "1/1 [==============================] - 0s 12ms/step\n",
      "1/1 [==============================] - 0s 12ms/step\n",
      "1/1 [==============================] - 0s 12ms/step\n",
      "1/1 [==============================] - 0s 12ms/step\n",
      "1/1 [==============================] - 0s 12ms/step\n",
      "1/1 [==============================] - 0s 13ms/step\n",
      "1/1 [==============================] - 0s 12ms/step\n",
      "1/1 [==============================] - 0s 12ms/step\n",
      "1/1 [==============================] - 0s 12ms/step\n",
      "1/1 [==============================] - 0s 12ms/step\n",
      "1/1 [==============================] - 0s 11ms/step\n",
      "1/1 [==============================] - 0s 12ms/step\n",
      "1/1 [==============================] - 0s 12ms/step\n",
      "1/1 [==============================] - 0s 12ms/step\n",
      "1/1 [==============================] - 0s 12ms/step\n",
      "1/1 [==============================] - 0s 12ms/step\n",
      "1/1 [==============================] - 0s 12ms/step\n",
      "1/1 [==============================] - 0s 13ms/step\n",
      "1/1 [==============================] - 0s 12ms/step\n",
      "1/1 [==============================] - 0s 11ms/step\n",
      "1/1 [==============================] - 0s 12ms/step\n",
      "1/1 [==============================] - 0s 11ms/step\n"
     ]
    }
   ],
   "source": [
    "\n",
    "def predict_digit(i):\n",
    "    i = i.convert('L')\n",
    "    i = i.resize((45,45))\n",
    "    ia = tf.keras.utils.img_to_array(i)\n",
    "    ia = np.array([ia])\n",
    "    #predicting the class\n",
    "    r = model.predict(ia)\n",
    "    s = tf.nn.softmax(r[0])\n",
    "    return class_names[np.argmax(s)],  np.max(s)\n",
    "class App(tk.Tk):\n",
    "    def __init__(self):\n",
    "        tk.Tk.__init__(self)\n",
    "        self.x = self.y = 0\n",
    "        # Creating elements\n",
    "        self.canvas = tk.Canvas(self, width=300, height=300, bg = \"white\", cursor=\"cross\")\n",
    "        self.label = tk.Label(self, text=\"Thinking..\", font=(\"Helvetica\", 48))\n",
    "        self.classify_btn = tk.Button(self, text = \"Recognise\", command =         self.classify_handwriting) \n",
    "        self.button_clear = tk.Button(self, text = \"Clear\", command = self.clear_all)\n",
    "        # Grid structure\n",
    "        self.canvas.grid(row=0, column=0, pady=2, sticky=W, )\n",
    "        self.label.grid(row=0, column=1,pady=2, padx=2)\n",
    "        self.classify_btn.grid(row=1, column=1, pady=2, padx=2)\n",
    "        self.button_clear.grid(row=1, column=0, pady=2)\n",
    "        #self.canvas.bind(\"<Motion>\", self.start_pos)\n",
    "        self.canvas.bind(\"<B1-Motion>\", self.draw_lines)\n",
    "    def clear_all(self):\n",
    "        self.canvas.delete(\"all\")\n",
    "    def classify_handwriting(self):\n",
    "        HWND = self.canvas.winfo_id() # get the handle of the canvas\n",
    "        rect = win32gui.GetWindowRect(HWND) # get the coordinate of the canvas\n",
    "        im = ImageGrab.grab(rect)\n",
    "        digit, acc = predict_digit(im)\n",
    "        self.label.configure(text= str(digit)+', '+ str(int(acc*100))+'%')\n",
    "    def draw_lines(self, event):\n",
    "        self.x = event.x\n",
    "        self.y = event.y\n",
    "        r=6.667\n",
    "        self.canvas.create_oval(self.x-r, self.y-r, self.x + r, self.y + r, fill='black')\n",
    "app = App()\n",
    "mainloop()"
   ]
  },
  {
   "cell_type": "code",
   "execution_count": null,
   "id": "37202cb9",
   "metadata": {},
   "outputs": [],
   "source": []
  }
 ],
 "metadata": {
  "kernelspec": {
   "display_name": "Python 3 (ipykernel)",
   "language": "python",
   "name": "python3"
  },
  "language_info": {
   "codemirror_mode": {
    "name": "ipython",
    "version": 3
   },
   "file_extension": ".py",
   "mimetype": "text/x-python",
   "name": "python",
   "nbconvert_exporter": "python",
   "pygments_lexer": "ipython3",
   "version": "3.9.13"
  }
 },
 "nbformat": 4,
 "nbformat_minor": 5
}
