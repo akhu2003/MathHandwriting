{
 "cells": [
  {
   "cell_type": "code",
   "execution_count": 61,
   "id": "5b73c732",
   "metadata": {},
   "outputs": [],
   "source": [
    "from tensorflow import keras\n",
    "import tensorflow as tf\n",
    "model = keras.models.load_model('Models')\n",
    "from PIL import ImageTk, Image, ImageDraw\n",
    "import PIL\n",
    "from PIL import ImageGrab, Image\n",
    "from tkinter import *\n",
    "import tkinter as tk\n",
    "import win32gui\n",
    "\n",
    "import numpy as np\n",
    "import matplotlib.pyplot as plt\n",
    "class_names = ['!', '(', ')', '+', ',', '-', '0', '1', '2', '3', '4', '5', '6', '7', '8', '9', '=', 'A', 'C', 'Delta', 'G', 'H', 'M', 'N', 'R', 'S', 'T', 'X', '[', ']', 'alpha', 'ascii_124', 'b', 'beta', 'cos', 'd', 'div', 'e', 'exists', 'f', 'forall', 'forward_slash', 'gamma', 'geq', 'gt', 'i', 'in', 'infty', 'int', 'j', 'k', 'l', 'lambda', 'ldots', 'leq', 'lim', 'log', 'lt', 'mu', 'neq', 'o', 'p', 'phi', 'pi', 'pm', 'prime', 'q', 'rightarrow', 'sigma', 'sin', 'sqrt', 'sum', 'tan', 'theta', 'times', 'u', 'v', 'w', 'y', 'z', '{', '}']"
   ]
  },
  {
   "cell_type": "code",
   "execution_count": 34,
   "id": "ac6cb979",
   "metadata": {},
   "outputs": [],
   "source": [
    "width = 45  # canvas width\n",
    "height = 45 # canvas height\n",
    "center = width/2\n",
    "white = (255, 255, 255) # canvas back\n",
    "\n",
    "def save():\n",
    "    # save image to hard drive\n",
    "    filename = \"user_input.png\"\n",
    "    output_image.save(filename)\n",
    "\n",
    "def paint(event):\n",
    "    x1, y1 = (event.x - 1), (event.y - 1)\n",
    "    x2, y2 = (event.x + 1), (event.y + 1)\n",
    "    canvas.create_oval(x1, y1, x2, y2, fill=\"black\",width=2)\n",
    "    draw.line([x1, y1, x2, y2],fill=\"black\",width=2)\n",
    "\n",
    "master = Tk()\n",
    "\n",
    "# create a tkinter canvas to draw on\n",
    "canvas = Canvas(master, width=width, height=height, bg='white')\n",
    "canvas.pack()\n",
    "\n",
    "# create an empty PIL image and draw object to draw on\n",
    "output_image = PIL.Image.new(\"RGB\", (width, height), white)\n",
    "draw = ImageDraw.Draw(output_image)\n",
    "canvas.pack(expand=YES, fill=BOTH)\n",
    "canvas.bind(\"<B1-Motion>\", paint)\n",
    "\n",
    "# add a button to save the image\n",
    "button=Button(text=\"save\",command=save)\n",
    "button.pack()\n",
    "\n",
    "master.mainloop()"
   ]
  },
  {
   "cell_type": "code",
   "execution_count": 49,
   "id": "89d4aa99",
   "metadata": {},
   "outputs": [
    {
     "data": {
      "image/png": "[encoded data removed]",
      "text/plain": [
       "<Figure size 432x288 with 1 Axes>"
      ]
     },
     "metadata": {
      "needs_background": "light"
     },
     "output_type": "display_data"
    }
   ],
   "source": [
    "from PIL import Image\n",
    "from numpy import asarray\n",
    "import cv2\n",
    "image =cv2.imread('user_input.jpg')\n",
    "plt.imshow(image)\n",
    "plt.show()\n"
   ]
  },
  {
   "cell_type": "code",
   "execution_count": 52,
   "id": "c7931238",
   "metadata": {},
   "outputs": [
    {
     "name": "stdout",
     "output_type": "stream",
     "text": [
      "1/1 [==============================] - 0s 11ms/step\n"
     ]
    },
    {
     "data": {
      "text/plain": [
       "array([[-57.805695  ,  -2.614598  , -57.964817  , -21.527517  ,\n",
       "         -2.4638927 ,  -5.056945  , -21.345404  , -17.097486  ,\n",
       "        -12.195206  , -12.145715  ,  -9.633771  ,   3.9228888 ,\n",
       "         27.75467   , -34.961452  ,   6.534588  , -57.877865  ,\n",
       "        -19.227863  , -10.222681  ,  -7.6172876 , -28.312809  ,\n",
       "        -14.787352  ,  -3.1889179 , -58.240314  , -14.114962  ,\n",
       "         -0.55785155,   4.3108506 ,   2.3839855 ,  -8.959623  ,\n",
       "        -18.47404   , -55.16334   , -22.674051  , -30.118309  ,\n",
       "          5.6054626 , -30.607344  , -32.571514  ,   7.3494315 ,\n",
       "        -20.541904  , -25.784616  , -59.582565  ,   8.85678   ,\n",
       "        -49.25645   ,  -8.055173  , -12.4857855 , -47.852055  ,\n",
       "        -41.437027  , -15.454782  , -32.31807   , -18.462011  ,\n",
       "        -20.579437  ,  -4.1282396 ,  -6.8460016 , -19.867146  ,\n",
       "        -49.565296  , -75.75778   ,   1.1591585 , -14.110049  ,\n",
       "        -34.79807   , -23.860006  , -53.341618  , -57.000298  ,\n",
       "        -43.041107  , -39.9666    , -36.37579   , -25.48948   ,\n",
       "        -58.066963  , -22.632963  , -25.515785  , -43.812214  ,\n",
       "        -18.781593  , -19.370226  , -22.916279  ,  -5.435702  ,\n",
       "        -23.7562    , -13.550686  , -17.98254   , -12.8148155 ,\n",
       "        -14.545443  , -25.164024  , -25.859001  ,  -9.515089  ,\n",
       "         -4.304802  , -25.82886   ]], dtype=float32)"
      ]
     },
     "execution_count": 52,
     "metadata": {},
     "output_type": "execute_result"
    }
   ],
   "source": [
    "img = tf.keras.utils.load_img(\n",
    "        'user_input.jpg', target_size=(45,45)\n",
    ")\n",
    "img_array = tf.keras.utils.img_to_array(img)\n",
    "img_array = tf.expand_dims(img_array, 0)\n",
    "predictions = model.predict(img_array)\n",
    "predictions"
   ]
  },
  {
   "cell_type": "code",
   "execution_count": 53,
   "id": "18177d4e",
   "metadata": {},
   "outputs": [
    {
     "name": "stdout",
     "output_type": "stream",
     "text": [
      "This image most likely belongs to b with a 45.80 percent confidence.\n"
     ]
    },
    {
     "data": {
      "text/plain": [
       "<tf.Tensor: shape=(82,), dtype=float32, numpy=\n",
       "array([6.56892947e-20, 2.93396323e-14, 2.51882346e-16, 1.51525459e-11,\n",
       "       6.09957098e-08, 6.74850682e-08, 8.44385454e-07, 1.68067793e-09,\n",
       "       7.49583062e-09, 2.11846796e-07, 1.79765022e-10, 2.18532068e-06,\n",
       "       6.15366048e-07, 3.85649956e-09, 2.04828531e-01, 1.40108869e-09,\n",
       "       8.45155922e-14, 1.30344515e-05, 8.20968182e-09, 1.42697709e-09,\n",
       "       2.97061503e-02, 1.97278660e-09, 1.94787475e-08, 3.79055962e-07,\n",
       "       5.32927061e-06, 3.16898596e-09, 7.93562178e-12, 9.70998357e-08,\n",
       "       1.40051711e-20, 1.35290593e-14, 5.99342265e-09, 3.38111142e-20,\n",
       "       4.58010942e-01, 2.27792878e-02, 4.31087743e-09, 6.42608056e-09,\n",
       "       1.31959164e-17, 1.47674456e-07, 1.09096141e-12, 2.44969169e-06,\n",
       "       1.28639135e-08, 2.48142769e-17, 6.53457346e-06, 2.79765011e-09,\n",
       "       1.81781543e-12, 6.74297857e-14, 1.29997209e-23, 7.67018870e-02,\n",
       "       3.47181471e-22, 8.81250406e-10, 7.69956168e-05, 4.39542310e-13,\n",
       "       4.53378139e-13, 3.05994831e-25, 2.29224416e-15, 7.56850582e-10,\n",
       "       1.45399346e-04, 9.70299506e-19, 1.19260690e-09, 3.57924459e-17,\n",
       "       6.37519452e-06, 4.79588813e-08, 2.26668476e-07, 5.75000447e-09,\n",
       "       3.97686833e-17, 3.31392171e-11, 3.44875990e-03, 6.10977848e-13,\n",
       "       3.08813813e-14, 4.34279485e-07, 7.07020042e-16, 2.28426934e-12,\n",
       "       8.71072552e-06, 1.52447989e-04, 3.34025537e-12, 1.31650602e-11,\n",
       "       1.19570985e-04, 5.01477887e-11, 1.08046097e-05, 2.03971416e-01,\n",
       "       6.98317760e-13, 4.25377008e-12], dtype=float32)>"
      ]
     },
     "execution_count": 53,
     "metadata": {},
     "output_type": "execute_result"
    }
   ],
   "source": [
    "score = tf.nn.softmax(predictions_array[0])\n",
    "print(\n",
    "    \"This image most likely belongs to {} with a {:.2f} percent confidence.\"\n",
    "    .format(class_names[np.argmax(score)], 100 * np.max(score))\n",
    ")\n",
    "score"
   ]
  },
  {
   "cell_type": "code",
   "execution_count": 73,
   "id": "5b30e83c",
   "metadata": {},
   "outputs": [
    {
     "name": "stdout",
     "output_type": "stream",
     "text": [
      "1/1 [==============================] - 0s 11ms/step\n",
      "1/1 [==============================] - 0s 11ms/step\n",
      "1/1 [==============================] - 0s 11ms/step\n",
      "1/1 [==============================] - 0s 10ms/step\n",
      "1/1 [==============================] - 0s 11ms/step\n",
      "1/1 [==============================] - 0s 11ms/step\n"
     ]
    }
   ],
   "source": [
    "def predict_digit(img):\n",
    "    #resize image to 28x28 pixels\n",
    "    img = img.resize((45,45))\n",
    "    #convert rgb to grayscale\n",
    "    img = np.array(img)\n",
    "    #reshaping to support our model input and normalizing\n",
    "    img = img.reshape(1,45,45,3)\n",
    "    img = img/255.0\n",
    "    #predicting the class\n",
    "    res = model.predict([img])[0]\n",
    "    return np.argmax(res), max(res)\n",
    "class App(tk.Tk):\n",
    "    def __init__(self):\n",
    "        tk.Tk.__init__(self)\n",
    "        self.x = self.y = 0\n",
    "        # Creating elements\n",
    "        self.canvas = tk.Canvas(self, width=300, height=300, bg = \"white\", cursor=\"cross\")\n",
    "        self.label = tk.Label(self, text=\"Thinking..\", font=(\"Helvetica\", 48))\n",
    "        self.classify_btn = tk.Button(self, text = \"Recognise\", command =         self.classify_handwriting) \n",
    "        self.button_clear = tk.Button(self, text = \"Clear\", command = self.clear_all)\n",
    "        # Grid structure\n",
    "        self.canvas.grid(row=0, column=0, pady=2, sticky=W, )\n",
    "        self.label.grid(row=0, column=1,pady=2, padx=2)\n",
    "        self.classify_btn.grid(row=1, column=1, pady=2, padx=2)\n",
    "        self.button_clear.grid(row=1, column=0, pady=2)\n",
    "        #self.canvas.bind(\"<Motion>\", self.start_pos)\n",
    "        self.canvas.bind(\"<B1-Motion>\", self.draw_lines)\n",
    "    def clear_all(self):\n",
    "        self.canvas.delete(\"all\")\n",
    "    def classify_handwriting(self):\n",
    "        HWND = self.canvas.winfo_id() # get the handle of the canvas\n",
    "        rect = win32gui.GetWindowRect(HWND) # get the coordinate of the canvas\n",
    "        im = ImageGrab.grab(rect)\n",
    "        digit, acc = predict_digit(im)\n",
    "        self.label.configure(text= str(digit)+', '+ str(int(acc*100))+'%')\n",
    "    def draw_lines(self, event):\n",
    "        self.x = event.x\n",
    "        self.y = event.y\n",
    "        r=8\n",
    "        self.canvas.create_oval(self.x-r, self.y-r, self.x + r, self.y + r, fill='black')\n",
    "app = App()\n",
    "mainloop()"
   ]
  },
  {
   "cell_type": "code",
   "execution_count": null,
   "id": "37202cb9",
   "metadata": {},
   "outputs": [],
   "source": []
  }
 ],
 "metadata": {
  "kernelspec": {
   "display_name": "Python 3 (ipykernel)",
   "language": "python",
   "name": "python3"
  },
  "language_info": {
   "codemirror_mode": {
    "name": "ipython",
    "version": 3
   },
   "file_extension": ".py",
   "mimetype": "text/x-python",
   "name": "python",
   "nbconvert_exporter": "python",
   "pygments_lexer": "ipython3",
   "version": "3.9.13"
  }
 },
 "nbformat": 4,
 "nbformat_minor": 5
}
