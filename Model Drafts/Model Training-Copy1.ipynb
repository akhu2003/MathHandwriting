{
 "cells": [
  {
   "cell_type": "code",
   "execution_count": 1,
   "id": "74f0c860",
   "metadata": {},
   "outputs": [
    {
     "name": "stdout",
     "output_type": "stream",
     "text": [
      "2.9.0\n"
     ]
    }
   ],
   "source": [
    "import tensorflow as tf\n",
    "import numpy as np\n",
    "import matplotlib.pyplot as plt\n",
    "import PIL\n",
    "import pathlib\n",
    "from pathlib import Path\n",
    "import os\n",
    "import cv2\n",
    "print (tf.__version__)\n",
    "from tensorflow.keras import layers\n",
    "from tensorflow import keras\n",
    "from tensorflow import keras\n",
    "from tensorflow.keras.models import Sequential\n"
   ]
  },
  {
   "cell_type": "code",
   "execution_count": 2,
   "id": "60e1e415",
   "metadata": {
    "scrolled": false
   },
   "outputs": [],
   "source": [
    "directory = 'MathSymbols'\n",
    "files = Path(directory).glob('*')\n",
    "img_height = 45\n",
    "img_width = 45\n",
    "batch_size = 10"
   ]
  },
  {
   "cell_type": "code",
   "execution_count": 3,
   "id": "9412deba",
   "metadata": {},
   "outputs": [
    {
     "name": "stdout",
     "output_type": "stream",
     "text": [
      "Found 375974 files belonging to 82 classes.\n"
     ]
    },
    {
     "data": {
      "text/plain": [
       "<BatchDataset element_spec=(TensorSpec(shape=(None, 45, 45, 1), dtype=tf.float32, name=None), TensorSpec(shape=(None,), dtype=tf.int32, name=None))>"
      ]
     },
     "execution_count": 3,
     "metadata": {},
     "output_type": "execute_result"
    }
   ],
   "source": [
    "tf.keras.utils.image_dataset_from_directory(\n",
    "    'MathSymbols',\n",
    "    labels='inferred',\n",
    "    label_mode='int',\n",
    "    class_names=None,\n",
    "    color_mode='grayscale',\n",
    "    batch_size=batch_size,\n",
    "    image_size=(45, 45),\n",
    "    shuffle=True,\n",
    "    seed=None,\n",
    "    validation_split=None,\n",
    "    subset=None,\n",
    "    interpolation='bilinear',\n",
    "    follow_links=False,\n",
    "    crop_to_aspect_ratio=False,\n",
    ")\n"
   ]
  },
  {
   "cell_type": "code",
   "execution_count": 4,
   "id": "b190def3",
   "metadata": {},
   "outputs": [
    {
     "name": "stdout",
     "output_type": "stream",
     "text": [
      "Found 375974 files belonging to 82 classes.\n",
      "Using 300780 files for training.\n",
      "Found 375974 files belonging to 82 classes.\n",
      "Using 75194 files for validation.\n"
     ]
    }
   ],
   "source": [
    "train_ds = tf.keras.utils.image_dataset_from_directory(\n",
    "  'MathSymbols',\n",
    "  validation_split=0.2,\n",
    "  subset=\"training\",\n",
    "  seed=123,\n",
    "  image_size=(45, 45),\n",
    "  batch_size=batch_size)\n",
    "val_ds = tf.keras.utils.image_dataset_from_directory(\n",
    "  'MathSymbols',\n",
    "  validation_split=0.2,\n",
    "  subset=\"validation\",\n",
    "  seed=123,\n",
    "  image_size=(45, 45),\n",
    "  batch_size=batch_size)"
   ]
  },
  {
   "cell_type": "code",
   "execution_count": 5,
   "id": "0b16cacc",
   "metadata": {},
   "outputs": [
    {
     "name": "stdout",
     "output_type": "stream",
     "text": [
      "['!', '(', ')', '+', ',', '-', '0', '1', '2', '3', '4', '5', '6', '7', '8', '9', '=', 'A', 'C', 'Delta', 'G', 'H', 'M', 'N', 'R', 'S', 'T', 'X', '[', ']', 'alpha', 'ascii_124', 'b', 'beta', 'cos', 'd', 'div', 'e', 'exists', 'f', 'forall', 'forward_slash', 'gamma', 'geq', 'gt', 'i', 'in', 'infty', 'int', 'j', 'k', 'l', 'lambda', 'ldots', 'leq', 'lim', 'log', 'lt', 'mu', 'neq', 'o', 'p', 'phi', 'pi', 'pm', 'prime', 'q', 'rightarrow', 'sigma', 'sin', 'sqrt', 'sum', 'tan', 'theta', 'times', 'u', 'v', 'w', 'y', 'z', '{', '}']\n"
     ]
    }
   ],
   "source": [
    "class_names = train_ds.class_names\n",
    "print(class_names)"
   ]
  },
  {
   "cell_type": "code",
   "execution_count": 10,
   "id": "bce5210a",
   "metadata": {},
   "outputs": [
    {
     "ename": "InvalidArgumentError",
     "evalue": "slice index 10 of dimension 0 out of bounds. [Op:StridedSlice] name: strided_slice/",
     "output_type": "error",
     "traceback": [
      "\u001b[1;31m---------------------------------------------------------------------------\u001b[0m",
      "\u001b[1;31mInvalidArgumentError\u001b[0m                      Traceback (most recent call last)",
      "Input \u001b[1;32mIn [10]\u001b[0m, in \u001b[0;36m<cell line: 2>\u001b[1;34m()\u001b[0m\n\u001b[0;32m      3\u001b[0m \u001b[38;5;28;01mfor\u001b[39;00m i \u001b[38;5;129;01min\u001b[39;00m \u001b[38;5;28mrange\u001b[39m(\u001b[38;5;241m25\u001b[39m):\n\u001b[0;32m      4\u001b[0m   ax \u001b[38;5;241m=\u001b[39m plt\u001b[38;5;241m.\u001b[39msubplot(\u001b[38;5;241m5\u001b[39m, \u001b[38;5;241m5\u001b[39m, i \u001b[38;5;241m+\u001b[39m \u001b[38;5;241m1\u001b[39m)\n\u001b[1;32m----> 5\u001b[0m   plt\u001b[38;5;241m.\u001b[39mimshow(\u001b[43mimages\u001b[49m\u001b[43m[\u001b[49m\u001b[43mi\u001b[49m\u001b[43m]\u001b[49m\u001b[38;5;241m.\u001b[39mnumpy()\u001b[38;5;241m.\u001b[39mastype(\u001b[38;5;124m\"\u001b[39m\u001b[38;5;124muint8\u001b[39m\u001b[38;5;124m\"\u001b[39m))\n\u001b[0;32m      6\u001b[0m   plt\u001b[38;5;241m.\u001b[39mtitle(class_names[labels[i]])\n\u001b[0;32m      7\u001b[0m   plt\u001b[38;5;241m.\u001b[39maxis(\u001b[38;5;124m\"\u001b[39m\u001b[38;5;124moff\u001b[39m\u001b[38;5;124m\"\u001b[39m)\n",
      "File \u001b[1;32m~\\AppData\\Local\\Programs\\Python\\Python39\\lib\\site-packages\\tensorflow\\python\\util\\traceback_utils.py:153\u001b[0m, in \u001b[0;36mfilter_traceback.<locals>.error_handler\u001b[1;34m(*args, **kwargs)\u001b[0m\n\u001b[0;32m    151\u001b[0m \u001b[38;5;28;01mexcept\u001b[39;00m \u001b[38;5;167;01mException\u001b[39;00m \u001b[38;5;28;01mas\u001b[39;00m e:\n\u001b[0;32m    152\u001b[0m   filtered_tb \u001b[38;5;241m=\u001b[39m _process_traceback_frames(e\u001b[38;5;241m.\u001b[39m__traceback__)\n\u001b[1;32m--> 153\u001b[0m   \u001b[38;5;28;01mraise\u001b[39;00m e\u001b[38;5;241m.\u001b[39mwith_traceback(filtered_tb) \u001b[38;5;28;01mfrom\u001b[39;00m \u001b[38;5;28mNone\u001b[39m\n\u001b[0;32m    154\u001b[0m \u001b[38;5;28;01mfinally\u001b[39;00m:\n\u001b[0;32m    155\u001b[0m   \u001b[38;5;28;01mdel\u001b[39;00m filtered_tb\n",
      "File \u001b[1;32m~\\AppData\\Local\\Programs\\Python\\Python39\\lib\\site-packages\\tensorflow\\python\\framework\\ops.py:7164\u001b[0m, in \u001b[0;36mraise_from_not_ok_status\u001b[1;34m(e, name)\u001b[0m\n\u001b[0;32m   7162\u001b[0m \u001b[38;5;28;01mdef\u001b[39;00m \u001b[38;5;21mraise_from_not_ok_status\u001b[39m(e, name):\n\u001b[0;32m   7163\u001b[0m   e\u001b[38;5;241m.\u001b[39mmessage \u001b[38;5;241m+\u001b[39m\u001b[38;5;241m=\u001b[39m (\u001b[38;5;124m\"\u001b[39m\u001b[38;5;124m name: \u001b[39m\u001b[38;5;124m\"\u001b[39m \u001b[38;5;241m+\u001b[39m name \u001b[38;5;28;01mif\u001b[39;00m name \u001b[38;5;129;01mis\u001b[39;00m \u001b[38;5;129;01mnot\u001b[39;00m \u001b[38;5;28;01mNone\u001b[39;00m \u001b[38;5;28;01melse\u001b[39;00m \u001b[38;5;124m\"\u001b[39m\u001b[38;5;124m\"\u001b[39m)\n\u001b[1;32m-> 7164\u001b[0m   \u001b[38;5;28;01mraise\u001b[39;00m core\u001b[38;5;241m.\u001b[39m_status_to_exception(e) \u001b[38;5;28;01mfrom\u001b[39;00m \u001b[38;5;28mNone\u001b[39m\n",
      "\u001b[1;31mInvalidArgumentError\u001b[0m: slice index 10 of dimension 0 out of bounds. [Op:StridedSlice] name: strided_slice/"
     ]
    },
    {
     "data": {
      "image/png": "[encoded data removed]",
      "text/plain": [
       "<Figure size 720x720 with 11 Axes>"
      ]
     },
     "metadata": {
      "needs_background": "light"
     },
     "output_type": "display_data"
    }
   ],
   "source": [
    "plt.figure(figsize=(10, 10))\n",
    "for images, labels in train_ds.take(1):\n",
    "  for i in range(25):\n",
    "    ax = plt.subplot(5, 5, i + 1)\n",
    "    plt.imshow(images[i].numpy().astype(\"uint8\"))\n",
    "    plt.title(class_names[labels[i]])\n",
    "    plt.axis(\"off\")"
   ]
  },
  {
   "cell_type": "code",
   "execution_count": 11,
   "id": "a53ece23",
   "metadata": {},
   "outputs": [
    {
     "name": "stdout",
     "output_type": "stream",
     "text": [
      "0.0 1.0\n"
     ]
    }
   ],
   "source": [
    "normalization_layer = tf.keras.layers.Rescaling(1./255)\n",
    "normalized_ds = train_ds.map(lambda x, y: (normalization_layer(x), y))\n",
    "image_batch, labels_batch = next(iter(normalized_ds))\n",
    "first_image = image_batch[0]\n",
    "# Notice the pixel values are now in `[0,1]`.\n",
    "print(np.min(first_image), np.max(first_image))"
   ]
  },
  {
   "cell_type": "code",
   "execution_count": 12,
   "id": "7f849d78",
   "metadata": {},
   "outputs": [],
   "source": [
    "AUTOTUNE = tf.data.AUTOTUNE\n",
    "\n",
    "train_ds = train_ds.cache().prefetch(buffer_size=AUTOTUNE)\n",
    "val_ds = val_ds.cache().prefetch(buffer_size=AUTOTUNE)\n",
    "normalization_layer = layers.Rescaling(1./255)\n"
   ]
  },
  {
   "cell_type": "code",
   "execution_count": 13,
   "id": "f96cf6ec",
   "metadata": {},
   "outputs": [
    {
     "name": "stdout",
     "output_type": "stream",
     "text": [
      "0.0 1.0\n"
     ]
    }
   ],
   "source": [
    "normalized_ds = train_ds.map(lambda x, y: (normalization_layer(x), y))\n",
    "image_batch, labels_batch = next(iter(normalized_ds))\n",
    "first_image = image_batch[0]\n",
    "# Notice the pixel values are now in `[0,1]`.\n",
    "print(np.min(first_image), np.max(first_image))"
   ]
  },
  {
   "cell_type": "code",
   "execution_count": 14,
   "id": "436e0505",
   "metadata": {},
   "outputs": [],
   "source": [
    "num_classes = len(class_names)\n",
    "\n",
    "model = Sequential([\n",
    "  layers.Rescaling(1./255, input_shape=(img_height, img_width, 3)),\n",
    "  layers.Conv2D(16, 3, padding='same', activation='relu'),\n",
    "  layers.MaxPooling2D(),\n",
    "  layers.Conv2D(32, 3, padding='same', activation='relu'),\n",
    "  layers.MaxPooling2D(),\n",
    "  layers.Conv2D(64, 3, padding='same', activation='relu'),\n",
    "  layers.MaxPooling2D(),\n",
    "  layers.Flatten(),\n",
    "  layers.Dense(128, activation='relu'),\n",
    "  layers.Dense(num_classes)\n",
    "])"
   ]
  },
  {
   "cell_type": "code",
   "execution_count": 15,
   "id": "024819c5",
   "metadata": {},
   "outputs": [
    {
     "name": "stdout",
     "output_type": "stream",
     "text": [
      "Model: \"sequential\"\n",
      "_________________________________________________________________\n",
      " Layer (type)                Output Shape              Param #   \n",
      "=================================================================\n",
      " rescaling_3 (Rescaling)     (None, 45, 45, 3)         0         \n",
      "                                                                 \n",
      " conv2d (Conv2D)             (None, 45, 45, 16)        448       \n",
      "                                                                 \n",
      " max_pooling2d (MaxPooling2D  (None, 22, 22, 16)       0         \n",
      " )                                                               \n",
      "                                                                 \n",
      " conv2d_1 (Conv2D)           (None, 22, 22, 32)        4640      \n",
      "                                                                 \n",
      " max_pooling2d_1 (MaxPooling  (None, 11, 11, 32)       0         \n",
      " 2D)                                                             \n",
      "                                                                 \n",
      " conv2d_2 (Conv2D)           (None, 11, 11, 64)        18496     \n",
      "                                                                 \n",
      " max_pooling2d_2 (MaxPooling  (None, 5, 5, 64)         0         \n",
      " 2D)                                                             \n",
      "                                                                 \n",
      " flatten (Flatten)           (None, 1600)              0         \n",
      "                                                                 \n",
      " dense (Dense)               (None, 128)               204928    \n",
      "                                                                 \n",
      " dense_1 (Dense)             (None, 82)                10578     \n",
      "                                                                 \n",
      "=================================================================\n",
      "Total params: 239,090\n",
      "Trainable params: 239,090\n",
      "Non-trainable params: 0\n",
      "_________________________________________________________________\n"
     ]
    }
   ],
   "source": [
    "model.compile(\n",
    "  optimizer='adam',\n",
    "  loss=tf.keras.losses.SparseCategoricalCrossentropy(from_logits=True),\n",
    "  metrics=['accuracy'])\n",
    "\n",
    "model.summary()"
   ]
  },
  {
   "cell_type": "code",
   "execution_count": null,
   "id": "26b87702",
   "metadata": {},
   "outputs": [
    {
     "name": "stdout",
     "output_type": "stream",
     "text": [
      "Epoch 1/50\n",
      "30078/30078 [==============================] - 461s 15ms/step - loss: 0.3361 - accuracy: 0.9064 - val_loss: 0.1835 - val_accuracy: 0.9460\n",
      "Epoch 2/50\n",
      "30078/30078 [==============================] - 608s 20ms/step - loss: 0.1489 - accuracy: 0.9540 - val_loss: 0.1424 - val_accuracy: 0.9577\n",
      "Epoch 3/50\n",
      "30078/30078 [==============================] - 600s 20ms/step - loss: 0.1123 - accuracy: 0.9647 - val_loss: 0.1139 - val_accuracy: 0.9642\n",
      "Epoch 4/50\n",
      "30078/30078 [==============================] - 595s 20ms/step - loss: 0.0940 - accuracy: 0.9697 - val_loss: 0.1271 - val_accuracy: 0.9615\n",
      "Epoch 5/50\n",
      "30078/30078 [==============================] - 596s 20ms/step - loss: 0.0831 - accuracy: 0.9736 - val_loss: 0.0958 - val_accuracy: 0.9737\n",
      "Epoch 6/50\n",
      "30078/30078 [==============================] - 597s 20ms/step - loss: 0.0769 - accuracy: 0.9757 - val_loss: 0.1119 - val_accuracy: 0.9656\n",
      "Epoch 7/50\n",
      "30078/30078 [==============================] - 590s 20ms/step - loss: 0.0735 - accuracy: 0.9772 - val_loss: 0.0886 - val_accuracy: 0.9751\n",
      "Epoch 8/50\n",
      "30078/30078 [==============================] - 592s 20ms/step - loss: 0.0709 - accuracy: 0.9783 - val_loss: 0.0893 - val_accuracy: 0.9761\n",
      "Epoch 9/50\n",
      "30078/30078 [==============================] - 590s 20ms/step - loss: 0.0707 - accuracy: 0.9788 - val_loss: 0.1063 - val_accuracy: 0.9740\n",
      "Epoch 10/50\n",
      "30078/30078 [==============================] - 591s 20ms/step - loss: 0.0695 - accuracy: 0.9797 - val_loss: 0.0975 - val_accuracy: 0.9774\n",
      "Epoch 11/50\n",
      "30078/30078 [==============================] - 593s 20ms/step - loss: 0.0739 - accuracy: 0.9788 - val_loss: 0.0808 - val_accuracy: 0.9789\n",
      "Epoch 12/50\n",
      "30078/30078 [==============================] - 595s 20ms/step - loss: 0.0696 - accuracy: 0.9797 - val_loss: 0.1012 - val_accuracy: 0.9727\n",
      "Epoch 13/50\n",
      "30078/30078 [==============================] - 593s 20ms/step - loss: 0.0658 - accuracy: 0.9808 - val_loss: 0.0915 - val_accuracy: 0.9776\n",
      "Epoch 14/50\n",
      "30078/30078 [==============================] - 592s 20ms/step - loss: 0.0654 - accuracy: 0.9816 - val_loss: 0.0890 - val_accuracy: 0.9782\n",
      "Epoch 15/50\n",
      "30078/30078 [==============================] - 593s 20ms/step - loss: 0.0653 - accuracy: 0.9815 - val_loss: 0.1037 - val_accuracy: 0.9783\n",
      "Epoch 16/50\n",
      "30078/30078 [==============================] - 595s 20ms/step - loss: 0.0622 - accuracy: 0.9826 - val_loss: 0.0859 - val_accuracy: 0.9818\n",
      "Epoch 17/50\n",
      "30078/30078 [==============================] - 607s 20ms/step - loss: 0.0658 - accuracy: 0.9821 - val_loss: 0.1057 - val_accuracy: 0.9779\n",
      "Epoch 18/50\n",
      "30078/30078 [==============================] - 653s 22ms/step - loss: 0.0657 - accuracy: 0.9826 - val_loss: 0.1069 - val_accuracy: 0.9785\n",
      "Epoch 19/50\n",
      "30078/30078 [==============================] - 594s 20ms/step - loss: 0.0656 - accuracy: 0.9832 - val_loss: 0.1230 - val_accuracy: 0.9764\n",
      "Epoch 20/50\n",
      "30078/30078 [==============================] - 594s 20ms/step - loss: 0.0686 - accuracy: 0.9826 - val_loss: 0.1202 - val_accuracy: 0.9775\n",
      "Epoch 21/50\n",
      "30078/30078 [==============================] - 603s 20ms/step - loss: 0.0688 - accuracy: 0.9831 - val_loss: 0.0781 - val_accuracy: 0.9820\n",
      "Epoch 22/50\n",
      " 8366/30078 [=======>......................] - ETA: 7:40 - loss: 0.0703 - accuracy: 0.9828"
     ]
    }
   ],
   "source": [
    "history = model.fit(\n",
    "  train_ds,\n",
    "  validation_data=val_ds,\n",
    "  epochs=50\n",
    ")"
   ]
  },
  {
   "cell_type": "code",
   "execution_count": 106,
   "id": "eedd927e",
   "metadata": {},
   "outputs": [
    {
     "data": {
      "text/plain": [
       "{'loss': [0.3862953782081604],\n",
       " 'accuracy': [0.8942615985870361],\n",
       " 'val_loss': [0.19016830623149872],\n",
       " 'val_accuracy': [0.943865180015564]}"
      ]
     },
     "execution_count": 106,
     "metadata": {},
     "output_type": "execute_result"
    }
   ],
   "source": [
    "history.history"
   ]
  },
  {
   "cell_type": "code",
   "execution_count": 107,
   "id": "e94bd1bf",
   "metadata": {},
   "outputs": [
    {
     "data": {
      "image/png": "[encoded data removed]",
      "text/plain": [
       "<Figure size 432x288 with 1 Axes>"
      ]
     },
     "metadata": {
      "needs_background": "light"
     },
     "output_type": "display_data"
    }
   ],
   "source": [
    "fig = plt.figure()\n",
    "plt.plot(history.history['loss'], color='teal', label='loss')\n",
    "plt.plot(history.history['val_loss'], color='orange', label='val_loss')\n",
    "fig.suptitle('Loss', fontsize=20)\n",
    "plt.legend(loc=\"upper left\")\n",
    "plt.show()"
   ]
  },
  {
   "cell_type": "code",
   "execution_count": 108,
   "id": "ccdd521b",
   "metadata": {
    "scrolled": true
   },
   "outputs": [
    {
     "data": {
      "image/png": "[encoded data removed]",
      "text/plain": [
       "<Figure size 432x288 with 1 Axes>"
      ]
     },
     "metadata": {
      "needs_background": "light"
     },
     "output_type": "display_data"
    }
   ],
   "source": [
    "fig = plt.figure()\n",
    "plt.plot(history.history['accuracy'], color='teal', label='accuracy')\n",
    "plt.plot(history.history['val_accuracy'], color='orange', label='val_accuracy')\n",
    "fig.suptitle('Accuracy', fontsize=20)\n",
    "plt.legend(loc=\"upper left\")\n",
    "plt.show()"
   ]
  },
  {
   "cell_type": "code",
   "execution_count": 109,
   "id": "d17fdd3d",
   "metadata": {
    "scrolled": false
   },
   "outputs": [],
   "source": [
    "from PIL import ImageTk, Image, ImageDraw\n",
    "import PIL\n",
    "from tkinter import *"
   ]
  },
  {
   "cell_type": "code",
   "execution_count": 72,
   "id": "4d8e3c43",
   "metadata": {
    "scrolled": true
   },
   "outputs": [],
   "source": [
    "width = 45  # canvas width\n",
    "height = 45 # canvas height\n",
    "center = width/2\n",
    "white = (255, 255, 255) # canvas back\n",
    "\n",
    "def save():\n",
    "    # save image to hard drive\n",
    "    filename = \"user_input.png\"\n",
    "    output_image.save(filename)\n",
    "\n",
    "def paint(event):\n",
    "    x1, y1 = (event.x - 1), (event.y - 1)\n",
    "    x2, y2 = (event.x + 1), (event.y + 1)\n",
    "    canvas.create_oval(x1, y1, x2, y2, fill=\"black\",width=2)\n",
    "    draw.line([x1, y1, x2, y2],fill=\"black\",width=2)\n",
    "\n",
    "master = Tk()\n",
    "\n",
    "# create a tkinter canvas to draw on\n",
    "canvas = Canvas(master, width=width, height=height, bg='white')\n",
    "canvas.pack()\n",
    "\n",
    "# create an empty PIL image and draw object to draw on\n",
    "output_image = PIL.Image.new(\"RGB\", (width, height), white)\n",
    "draw = ImageDraw.Draw(output_image)\n",
    "canvas.pack(expand=YES, fill=BOTH)\n",
    "canvas.bind(\"<B1-Motion>\", paint)\n",
    "\n",
    "# add a button to save the image\n",
    "button=Button(text=\"save\",command=save)\n",
    "button.pack()\n",
    "\n",
    "master.mainloop()"
   ]
  },
  {
   "cell_type": "code",
   "execution_count": 3,
   "id": "8a36c995",
   "metadata": {
    "scrolled": true
   },
   "outputs": [
    {
     "data": {
      "image/png": "[encoded data removed]",
      "text/plain": [
       "<Figure size 432x288 with 1 Axes>"
      ]
     },
     "metadata": {
      "needs_background": "light"
     },
     "output_type": "display_data"
    }
   ],
   "source": [
    "from PIL import Image\n",
    "from numpy import asarray\n",
    "import cv2\n",
    "image =cv2.imread('user_input.png')\n",
    "plt.imshow(image)\n",
    "plt.show()\n"
   ]
  },
  {
   "cell_type": "code",
   "execution_count": 4,
   "id": "f7b3edad",
   "metadata": {},
   "outputs": [
    {
     "ename": "NameError",
     "evalue": "name 'model' is not defined",
     "output_type": "error",
     "traceback": [
      "\u001b[1;31m---------------------------------------------------------------------------\u001b[0m",
      "\u001b[1;31mNameError\u001b[0m                                 Traceback (most recent call last)",
      "Input \u001b[1;32mIn [4]\u001b[0m, in \u001b[0;36m<cell line: 5>\u001b[1;34m()\u001b[0m\n\u001b[0;32m      3\u001b[0m img_array \u001b[38;5;241m=\u001b[39m tf\u001b[38;5;241m.\u001b[39mkeras\u001b[38;5;241m.\u001b[39mutils\u001b[38;5;241m.\u001b[39mimg_to_array(img)\n\u001b[0;32m      4\u001b[0m img_array \u001b[38;5;241m=\u001b[39m tf\u001b[38;5;241m.\u001b[39mexpand_dims(img_array, \u001b[38;5;241m0\u001b[39m)\n\u001b[1;32m----> 5\u001b[0m \u001b[43mmodel\u001b[49m\u001b[38;5;241m.\u001b[39mpredict(img_array)\n",
      "\u001b[1;31mNameError\u001b[0m: name 'model' is not defined"
     ]
    }
   ],
   "source": [
    "img = tf.keras.utils.load_img('user_input.png',color_mode = \"grayscale\")\n",
    "img\n",
    "img_array = tf.keras.utils.img_to_array(img)\n",
    "img_array = tf.expand_dims(img_array, 0)\n",
    "model.predict(img_array)"
   ]
  },
  {
   "cell_type": "code",
   "execution_count": 112,
   "id": "92798f15",
   "metadata": {},
   "outputs": [
    {
     "name": "stdout",
     "output_type": "stream",
     "text": [
      "1/1 [==============================] - 0s 77ms/step\n",
      "[[-1.74279079e+01 -1.07106447e+01 -1.63100414e+01 -4.42839289e+00\n",
      "  -8.15655613e+00 -5.80328131e+00 -1.98138392e+00 -7.73647308e+00\n",
      "  -2.36928368e+00 -9.08413982e+00 -2.58174586e+00 -1.41530871e+00\n",
      "  -3.22236323e+00 -4.25333357e+00  1.39567629e-01 -5.73723602e+00\n",
      "  -1.23683710e+01  2.67420244e+00 -7.72528315e+00 -2.02265358e+00\n",
      "   2.22239375e+00  1.22820936e-01  1.58553100e+00 -3.83617401e-01\n",
      "  -1.90527499e-01 -4.48150921e+00 -2.64685678e+00 -2.54565501e+00\n",
      "  -6.26458931e+00 -1.43244381e+01 -5.13829136e+00 -1.26755571e+01\n",
      "   4.20395041e+00 -7.84511387e-01 -1.50522220e+00 -1.18413365e+00\n",
      "  -1.04686232e+01 -2.37626600e+00 -9.46695900e+00 -2.04508162e+00\n",
      "  -2.44308233e+00 -8.02096558e+00 -3.57791710e+00 -4.64703655e+00\n",
      "  -1.04487257e+01 -3.11686897e+00 -8.06030941e+00  1.07102835e+00\n",
      "  -1.43804045e+01 -5.28561974e+00  1.65860784e+00 -2.78752732e+00\n",
      "  -7.07458496e+00 -1.40331459e+01 -9.82696438e+00  1.87427282e+00\n",
      "   3.52424169e+00 -1.00052252e+01 -1.96836516e-03 -5.37974417e-01\n",
      "  -1.07061517e+00 -2.86569685e-01  1.25912452e+00 -1.96781182e+00\n",
      "  -7.83183098e+00 -9.05287457e+00  1.61056197e+00 -8.47651100e+00\n",
      "  -1.69932663e+00  1.12576330e+00 -8.13859653e+00 -1.64286673e+00\n",
      "   8.15516293e-01  1.99786699e+00 -6.09838629e+00 -1.93409503e+00\n",
      "  -6.96039423e-02 -1.68064904e+00  9.64158833e-01 -9.94857073e-01\n",
      "  -7.94323969e+00 -1.09621248e+01]]\n"
     ]
    }
   ],
   "source": [
    "predictions_array = model.predict(np.expand_dims(image/255, 0))\n",
    "print (predictions_array)"
   ]
  },
  {
   "cell_type": "code",
   "execution_count": 113,
   "id": "824c7226",
   "metadata": {},
   "outputs": [
    {
     "name": "stdout",
     "output_type": "stream",
     "text": [
      "This image most likely belongs to b with a 37.40 percent confidence.\n"
     ]
    }
   ],
   "source": [
    "score = tf.nn.softmax(predictions_array[0])\n",
    "print(\n",
    "    \"This image most likely belongs to {} with a {:.2f} percent confidence.\"\n",
    "    .format(class_names[np.argmax(score)], 100 * np.max(score))\n",
    ")"
   ]
  },
  {
   "cell_type": "code",
   "execution_count": null,
   "id": "daac864e",
   "metadata": {},
   "outputs": [],
   "source": []
  },
  {
   "cell_type": "code",
   "execution_count": null,
   "id": "edc2617e",
   "metadata": {},
   "outputs": [],
   "source": []
  }
 ],
 "metadata": {
  "kernelspec": {
   "display_name": "Python 3 (ipykernel)",
   "language": "python",
   "name": "python3"
  },
  "language_info": {
   "codemirror_mode": {
    "name": "ipython",
    "version": 3
   },
   "file_extension": ".py",
   "mimetype": "text/x-python",
   "name": "python",
   "nbconvert_exporter": "python",
   "pygments_lexer": "ipython3",
   "version": "3.9.13"
  }
 },
 "nbformat": 4,
 "nbformat_minor": 5
}
